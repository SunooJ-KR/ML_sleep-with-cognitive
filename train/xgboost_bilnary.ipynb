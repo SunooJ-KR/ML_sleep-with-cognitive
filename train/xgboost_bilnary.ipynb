{
 "cells": [
  {
   "cell_type": "code",
   "execution_count": 1,
   "metadata": {},
   "outputs": [],
   "source": [
    "import pandas as pd\n"
   ]
  },
  {
   "cell_type": "code",
   "execution_count": 2,
   "metadata": {},
   "outputs": [],
   "source": [
    "data_path = '../datasets/preprocessing/'\n",
    "activity_df = pd.read_csv(data_path+'activity_final.csv')\n",
    "sleep_df = pd.read_csv(data_path+'sleep_final.csv')\n",
    "mmse_df = pd.read_csv(data_path+'mmse_final.csv')"
   ]
  },
  {
   "cell_type": "code",
   "execution_count": 3,
   "metadata": {},
   "outputs": [
    {
     "data": {
      "text/html": [
       "<div>\n",
       "<style scoped>\n",
       "    .dataframe tbody tr th:only-of-type {\n",
       "        vertical-align: middle;\n",
       "    }\n",
       "\n",
       "    .dataframe tbody tr th {\n",
       "        vertical-align: top;\n",
       "    }\n",
       "\n",
       "    .dataframe thead th {\n",
       "        text-align: right;\n",
       "    }\n",
       "</style>\n",
       "<table border=\"1\" class=\"dataframe\">\n",
       "  <thead>\n",
       "    <tr style=\"text-align: right;\">\n",
       "      <th></th>\n",
       "      <th>activity_cal_total</th>\n",
       "      <th>activity_high</th>\n",
       "      <th>activity_inactive</th>\n",
       "      <th>activity_low</th>\n",
       "      <th>activity_medium</th>\n",
       "      <th>activity_met_min_inactive</th>\n",
       "      <th>activity_non_wear</th>\n",
       "      <th>activity_rest</th>\n",
       "      <th>activity_score</th>\n",
       "      <th>activity_score_meet_daily_targets</th>\n",
       "      <th>activity_score_move_every_hour</th>\n",
       "      <th>activity_score_recovery_time</th>\n",
       "      <th>activity_score_training_frequency</th>\n",
       "      <th>activity_score_training_volume</th>\n",
       "      <th>activity_steps</th>\n",
       "      <th>activity_total</th>\n",
       "      <th>DIAG_NM</th>\n",
       "    </tr>\n",
       "  </thead>\n",
       "  <tbody>\n",
       "    <tr>\n",
       "      <th>0</th>\n",
       "      <td>0.234154</td>\n",
       "      <td>0.023222</td>\n",
       "      <td>0.620100</td>\n",
       "      <td>0.149217</td>\n",
       "      <td>0.087749</td>\n",
       "      <td>0.290130</td>\n",
       "      <td>0.201264</td>\n",
       "      <td>0.516628</td>\n",
       "      <td>0.209601</td>\n",
       "      <td>0.140492</td>\n",
       "      <td>0.634341</td>\n",
       "      <td>0.996484</td>\n",
       "      <td>0.163528</td>\n",
       "      <td>0.403653</td>\n",
       "      <td>0.106811</td>\n",
       "      <td>0.138529</td>\n",
       "      <td>0</td>\n",
       "    </tr>\n",
       "    <tr>\n",
       "      <th>1</th>\n",
       "      <td>0.000000</td>\n",
       "      <td>0.007217</td>\n",
       "      <td>0.531848</td>\n",
       "      <td>0.460230</td>\n",
       "      <td>0.071337</td>\n",
       "      <td>0.704377</td>\n",
       "      <td>0.243731</td>\n",
       "      <td>0.343130</td>\n",
       "      <td>0.125933</td>\n",
       "      <td>0.064371</td>\n",
       "      <td>0.784069</td>\n",
       "      <td>0.955738</td>\n",
       "      <td>0.000000</td>\n",
       "      <td>0.321114</td>\n",
       "      <td>0.180278</td>\n",
       "      <td>0.362767</td>\n",
       "      <td>1</td>\n",
       "    </tr>\n",
       "    <tr>\n",
       "      <th>2</th>\n",
       "      <td>0.318593</td>\n",
       "      <td>0.018581</td>\n",
       "      <td>0.657863</td>\n",
       "      <td>0.569825</td>\n",
       "      <td>0.035947</td>\n",
       "      <td>0.936819</td>\n",
       "      <td>0.155918</td>\n",
       "      <td>0.186934</td>\n",
       "      <td>0.351903</td>\n",
       "      <td>0.513854</td>\n",
       "      <td>0.861448</td>\n",
       "      <td>0.998392</td>\n",
       "      <td>0.113332</td>\n",
       "      <td>0.258988</td>\n",
       "      <td>0.158658</td>\n",
       "      <td>0.433723</td>\n",
       "      <td>0</td>\n",
       "    </tr>\n",
       "    <tr>\n",
       "      <th>3</th>\n",
       "      <td>0.393307</td>\n",
       "      <td>0.010964</td>\n",
       "      <td>0.444411</td>\n",
       "      <td>0.604473</td>\n",
       "      <td>0.158410</td>\n",
       "      <td>0.493903</td>\n",
       "      <td>0.178951</td>\n",
       "      <td>0.291086</td>\n",
       "      <td>0.864838</td>\n",
       "      <td>0.916883</td>\n",
       "      <td>0.957027</td>\n",
       "      <td>0.979426</td>\n",
       "      <td>0.826441</td>\n",
       "      <td>0.911869</td>\n",
       "      <td>0.295948</td>\n",
       "      <td>0.496304</td>\n",
       "      <td>1</td>\n",
       "    </tr>\n",
       "    <tr>\n",
       "      <th>4</th>\n",
       "      <td>0.183541</td>\n",
       "      <td>0.060878</td>\n",
       "      <td>0.334683</td>\n",
       "      <td>0.564425</td>\n",
       "      <td>0.143397</td>\n",
       "      <td>0.617737</td>\n",
       "      <td>0.664560</td>\n",
       "      <td>0.292612</td>\n",
       "      <td>0.618191</td>\n",
       "      <td>0.709387</td>\n",
       "      <td>0.930424</td>\n",
       "      <td>0.998668</td>\n",
       "      <td>0.397923</td>\n",
       "      <td>0.521875</td>\n",
       "      <td>0.210219</td>\n",
       "      <td>0.464942</td>\n",
       "      <td>0</td>\n",
       "    </tr>\n",
       "  </tbody>\n",
       "</table>\n",
       "</div>"
      ],
      "text/plain": [
       "   activity_cal_total  activity_high  activity_inactive  activity_low  \\\n",
       "0            0.234154       0.023222           0.620100      0.149217   \n",
       "1            0.000000       0.007217           0.531848      0.460230   \n",
       "2            0.318593       0.018581           0.657863      0.569825   \n",
       "3            0.393307       0.010964           0.444411      0.604473   \n",
       "4            0.183541       0.060878           0.334683      0.564425   \n",
       "\n",
       "   activity_medium  activity_met_min_inactive  activity_non_wear  \\\n",
       "0         0.087749                   0.290130           0.201264   \n",
       "1         0.071337                   0.704377           0.243731   \n",
       "2         0.035947                   0.936819           0.155918   \n",
       "3         0.158410                   0.493903           0.178951   \n",
       "4         0.143397                   0.617737           0.664560   \n",
       "\n",
       "   activity_rest  activity_score  activity_score_meet_daily_targets  \\\n",
       "0       0.516628        0.209601                           0.140492   \n",
       "1       0.343130        0.125933                           0.064371   \n",
       "2       0.186934        0.351903                           0.513854   \n",
       "3       0.291086        0.864838                           0.916883   \n",
       "4       0.292612        0.618191                           0.709387   \n",
       "\n",
       "   activity_score_move_every_hour  activity_score_recovery_time  \\\n",
       "0                        0.634341                      0.996484   \n",
       "1                        0.784069                      0.955738   \n",
       "2                        0.861448                      0.998392   \n",
       "3                        0.957027                      0.979426   \n",
       "4                        0.930424                      0.998668   \n",
       "\n",
       "   activity_score_training_frequency  activity_score_training_volume  \\\n",
       "0                           0.163528                        0.403653   \n",
       "1                           0.000000                        0.321114   \n",
       "2                           0.113332                        0.258988   \n",
       "3                           0.826441                        0.911869   \n",
       "4                           0.397923                        0.521875   \n",
       "\n",
       "   activity_steps  activity_total  DIAG_NM  \n",
       "0        0.106811        0.138529        0  \n",
       "1        0.180278        0.362767        1  \n",
       "2        0.158658        0.433723        0  \n",
       "3        0.295948        0.496304        1  \n",
       "4        0.210219        0.464942        0  "
      ]
     },
     "execution_count": 3,
     "metadata": {},
     "output_type": "execute_result"
    }
   ],
   "source": [
    "activity_df.head()"
   ]
  },
  {
   "cell_type": "code",
   "execution_count": 4,
   "metadata": {},
   "outputs": [],
   "source": [
    "sleep_df = sleep_df.drop(columns='EMAIL')"
   ]
  },
  {
   "cell_type": "code",
   "execution_count": 5,
   "metadata": {},
   "outputs": [
    {
     "name": "stdout",
     "output_type": "stream",
     "text": [
      "<class 'pandas.core.frame.DataFrame'>\n",
      "RangeIndex: 141 entries, 0 to 140\n",
      "Data columns (total 19 columns):\n",
      " #   Column                    Non-Null Count  Dtype  \n",
      "---  ------                    --------------  -----  \n",
      " 0   sleep_awake               141 non-null    float64\n",
      " 1   sleep_breath_average      141 non-null    float64\n",
      " 2   sleep_deep                141 non-null    float64\n",
      " 3   sleep_duration            141 non-null    float64\n",
      " 4   sleep_hr_average          141 non-null    float64\n",
      " 5   sleep_light               141 non-null    float64\n",
      " 6   sleep_midpoint_at_delta   141 non-null    float64\n",
      " 7   sleep_onset_latency       141 non-null    float64\n",
      " 8   sleep_period_id           141 non-null    float64\n",
      " 9   sleep_rem                 141 non-null    float64\n",
      " 10  sleep_restless            141 non-null    float64\n",
      " 11  sleep_rmssd               141 non-null    float64\n",
      " 12  sleep_score               141 non-null    float64\n",
      " 13  sleep_score_alignment     141 non-null    float64\n",
      " 14  sleep_score_deep          141 non-null    float64\n",
      " 15  sleep_score_disturbances  141 non-null    float64\n",
      " 16  sleep_score_latency       141 non-null    float64\n",
      " 17  sleep_temperature_delta   141 non-null    float64\n",
      " 18  DIAG_NM                   141 non-null    int64  \n",
      "dtypes: float64(18), int64(1)\n",
      "memory usage: 21.1 KB\n"
     ]
    }
   ],
   "source": [
    "sleep_df.info()"
   ]
  },
  {
   "cell_type": "code",
   "execution_count": 6,
   "metadata": {},
   "outputs": [],
   "source": [
    "mmse_df = mmse_df.drop(columns='SAMPLE_EMAIL')"
   ]
  },
  {
   "cell_type": "code",
   "execution_count": 7,
   "metadata": {},
   "outputs": [
    {
     "name": "stdout",
     "output_type": "stream",
     "text": [
      "<class 'pandas.core.frame.DataFrame'>\n",
      "RangeIndex: 141 entries, 0 to 140\n",
      "Data columns (total 32 columns):\n",
      " #   Column   Non-Null Count  Dtype\n",
      "---  ------   --------------  -----\n",
      " 0   DIAG_NM  141 non-null    int64\n",
      " 1   Q01      141 non-null    int64\n",
      " 2   Q02      141 non-null    int64\n",
      " 3   Q03      141 non-null    int64\n",
      " 4   Q04      141 non-null    int64\n",
      " 5   Q05      141 non-null    int64\n",
      " 6   Q06      141 non-null    int64\n",
      " 7   Q07      141 non-null    int64\n",
      " 8   Q08      141 non-null    int64\n",
      " 9   Q09      141 non-null    int64\n",
      " 10  Q10      141 non-null    int64\n",
      " 11  Q11_1    141 non-null    int64\n",
      " 12  Q11_2    141 non-null    int64\n",
      " 13  Q11_3    141 non-null    int64\n",
      " 14  Q12_1    141 non-null    int64\n",
      " 15  Q12_2    141 non-null    int64\n",
      " 16  Q12_3    141 non-null    int64\n",
      " 17  Q12_4    141 non-null    int64\n",
      " 18  Q12_5    141 non-null    int64\n",
      " 19  Q13_1    141 non-null    int64\n",
      " 20  Q13_2    141 non-null    int64\n",
      " 21  Q13_3    141 non-null    int64\n",
      " 22  Q14_1    141 non-null    int64\n",
      " 23  Q14_2    141 non-null    int64\n",
      " 24  Q15      141 non-null    int64\n",
      " 25  Q16_1    141 non-null    int64\n",
      " 26  Q16_2    141 non-null    int64\n",
      " 27  Q16_3    141 non-null    int64\n",
      " 28  Q17      141 non-null    int64\n",
      " 29  Q18      141 non-null    int64\n",
      " 30  Q19      141 non-null    int64\n",
      " 31  TOTAL    141 non-null    int64\n",
      "dtypes: int64(32)\n",
      "memory usage: 35.4 KB\n"
     ]
    }
   ],
   "source": [
    "mmse_df.info()"
   ]
  },
  {
   "cell_type": "markdown",
   "metadata": {},
   "source": [
    "학습데이터 생성 1) activity"
   ]
  },
  {
   "cell_type": "code",
   "execution_count": 8,
   "metadata": {},
   "outputs": [
    {
     "name": "stdout",
     "output_type": "stream",
     "text": [
      "112\n"
     ]
    }
   ],
   "source": [
    "train_num = int(len(activity_df)*0.8)\n",
    "print(train_num)"
   ]
  },
  {
   "cell_type": "code",
   "execution_count": 9,
   "metadata": {},
   "outputs": [
    {
     "name": "stdout",
     "output_type": "stream",
     "text": [
      "x: 141\n",
      "y: 141\n"
     ]
    }
   ],
   "source": [
    "x_df = activity_df.drop(['DIAG_NM'], axis=1)\n",
    "print('x:', len(x_df))\n",
    "\n",
    "y_df = activity_df['DIAG_NM']\n",
    "print('y:', len(y_df))"
   ]
  },
  {
   "cell_type": "code",
   "execution_count": 10,
   "metadata": {},
   "outputs": [
    {
     "name": "stdout",
     "output_type": "stream",
     "text": [
      "DIAG_NM\n",
      "0    85\n",
      "1    56\n",
      "Name: count, dtype: int64\n"
     ]
    }
   ],
   "source": [
    "print(activity_df['DIAG_NM'].value_counts())"
   ]
  },
  {
   "cell_type": "code",
   "execution_count": 11,
   "metadata": {},
   "outputs": [],
   "source": [
    "train_X = x_df[:train_num].values\n",
    "train_y = y_df[:train_num].values\n",
    "test_X = x_df[train_num:].values\n",
    "test_y = y_df[train_num:].values"
   ]
  },
  {
   "cell_type": "code",
   "execution_count": 13,
   "metadata": {},
   "outputs": [],
   "source": [
    "def split_train_test(dataframe, target_colum:str, percent:float = 0.8):\n",
    "    train_num = int(len(dataframe)*percent)\n",
    "    x_df = activity_df.drop([target_colum], axis=1)\n",
    "    y_df = activity_df[target_colum]\n",
    "    train_X = x_df[:train_num].values\n",
    "    train_y = y_df[:train_num].values\n",
    "    test_X = x_df[train_num:].values\n",
    "    test_y = y_df[train_num:].values\n",
    "    return train_X, train_y, test_X, test_y"
   ]
  },
  {
   "cell_type": "markdown",
   "metadata": {},
   "source": [
    "사이킷런 래퍼 XGBoost 클래스인 XGBClassifier 임포트"
   ]
  },
  {
   "cell_type": "code",
   "execution_count": 12,
   "metadata": {},
   "outputs": [],
   "source": [
    "from sklearn.metrics import confusion_matrix, accuracy_score, precision_score, recall_score, f1_score\n",
    "from sklearn.metrics import roc_auc_score\n",
    "\n",
    "def gef_clf_eval(y_test, pred=None, pred_proba=None):\n",
    "    confusion = confusion_matrix(y_test, pred)\n",
    "    accuracy = accuracy_score(y_test, pred)\n",
    "    precision = precision_score(y_test, pred)\n",
    "    recall = recall_score(y_test, pred)\n",
    "    f1 = f1_score(y_test, pred)\n",
    "    \n",
    "    # ROC_AUC 추가\n",
    "    roc_auc = roc_auc_score(y_test, pred_proba)\n",
    "    print('오차 행렬')\n",
    "    print(confusion)\n",
    "    # ROC_AUC print 추가\n",
    "    print('정확도:{0:.4f}, 정밀도:{1:.4f}, 재현율:{2:.4f}, F1:{3:.4f}, AUC:{4:.4f}'.format(accuracy, precision, recall, f1, roc_auc))"
   ]
  },
  {
   "cell_type": "code",
   "execution_count": 14,
   "metadata": {},
   "outputs": [
    {
     "data": {
      "text/html": [
       "<div>\n",
       "<style scoped>\n",
       "    .dataframe tbody tr th:only-of-type {\n",
       "        vertical-align: middle;\n",
       "    }\n",
       "\n",
       "    .dataframe tbody tr th {\n",
       "        vertical-align: top;\n",
       "    }\n",
       "\n",
       "    .dataframe thead th {\n",
       "        text-align: right;\n",
       "    }\n",
       "</style>\n",
       "<table border=\"1\" class=\"dataframe\">\n",
       "  <thead>\n",
       "    <tr style=\"text-align: right;\">\n",
       "      <th></th>\n",
       "      <th>sleep_awake</th>\n",
       "      <th>sleep_breath_average</th>\n",
       "      <th>sleep_deep</th>\n",
       "      <th>sleep_duration</th>\n",
       "      <th>sleep_hr_average</th>\n",
       "      <th>sleep_light</th>\n",
       "      <th>sleep_midpoint_at_delta</th>\n",
       "      <th>sleep_onset_latency</th>\n",
       "      <th>sleep_period_id</th>\n",
       "      <th>sleep_rem</th>\n",
       "      <th>sleep_restless</th>\n",
       "      <th>sleep_rmssd</th>\n",
       "      <th>sleep_score</th>\n",
       "      <th>sleep_score_alignment</th>\n",
       "      <th>sleep_score_deep</th>\n",
       "      <th>sleep_score_disturbances</th>\n",
       "      <th>sleep_score_latency</th>\n",
       "      <th>sleep_temperature_delta</th>\n",
       "      <th>DIAG_NM</th>\n",
       "    </tr>\n",
       "  </thead>\n",
       "  <tbody>\n",
       "    <tr>\n",
       "      <th>0</th>\n",
       "      <td>0.422924</td>\n",
       "      <td>0.477566</td>\n",
       "      <td>0.304000</td>\n",
       "      <td>0.523079</td>\n",
       "      <td>0.460202</td>\n",
       "      <td>0.423397</td>\n",
       "      <td>0.261079</td>\n",
       "      <td>0.261016</td>\n",
       "      <td>0.685649</td>\n",
       "      <td>0.449271</td>\n",
       "      <td>0.599543</td>\n",
       "      <td>0.161833</td>\n",
       "      <td>0.415818</td>\n",
       "      <td>0.576342</td>\n",
       "      <td>0.675137</td>\n",
       "      <td>0.336553</td>\n",
       "      <td>0.648496</td>\n",
       "      <td>0.599968</td>\n",
       "      <td>0</td>\n",
       "    </tr>\n",
       "    <tr>\n",
       "      <th>1</th>\n",
       "      <td>0.000000</td>\n",
       "      <td>0.451455</td>\n",
       "      <td>0.488372</td>\n",
       "      <td>0.501219</td>\n",
       "      <td>0.637767</td>\n",
       "      <td>0.477082</td>\n",
       "      <td>0.196890</td>\n",
       "      <td>0.239434</td>\n",
       "      <td>0.159950</td>\n",
       "      <td>0.710106</td>\n",
       "      <td>0.334438</td>\n",
       "      <td>0.435383</td>\n",
       "      <td>0.822495</td>\n",
       "      <td>0.778833</td>\n",
       "      <td>0.859601</td>\n",
       "      <td>0.949620</td>\n",
       "      <td>0.853174</td>\n",
       "      <td>0.665333</td>\n",
       "      <td>1</td>\n",
       "    </tr>\n",
       "    <tr>\n",
       "      <th>2</th>\n",
       "      <td>0.430326</td>\n",
       "      <td>0.555427</td>\n",
       "      <td>0.182253</td>\n",
       "      <td>0.404442</td>\n",
       "      <td>0.343454</td>\n",
       "      <td>0.250976</td>\n",
       "      <td>0.096846</td>\n",
       "      <td>0.375251</td>\n",
       "      <td>0.139814</td>\n",
       "      <td>0.525399</td>\n",
       "      <td>0.443120</td>\n",
       "      <td>0.237821</td>\n",
       "      <td>0.365140</td>\n",
       "      <td>0.965204</td>\n",
       "      <td>0.489051</td>\n",
       "      <td>0.481131</td>\n",
       "      <td>0.583690</td>\n",
       "      <td>0.473578</td>\n",
       "      <td>0</td>\n",
       "    </tr>\n",
       "    <tr>\n",
       "      <th>3</th>\n",
       "      <td>0.379785</td>\n",
       "      <td>0.195751</td>\n",
       "      <td>0.308392</td>\n",
       "      <td>0.442231</td>\n",
       "      <td>0.592405</td>\n",
       "      <td>0.385784</td>\n",
       "      <td>0.190902</td>\n",
       "      <td>0.190483</td>\n",
       "      <td>0.350861</td>\n",
       "      <td>0.289051</td>\n",
       "      <td>0.738342</td>\n",
       "      <td>0.232490</td>\n",
       "      <td>0.382775</td>\n",
       "      <td>0.911952</td>\n",
       "      <td>0.693454</td>\n",
       "      <td>0.286148</td>\n",
       "      <td>0.796513</td>\n",
       "      <td>0.317933</td>\n",
       "      <td>1</td>\n",
       "    </tr>\n",
       "    <tr>\n",
       "      <th>4</th>\n",
       "      <td>0.256004</td>\n",
       "      <td>0.347874</td>\n",
       "      <td>0.677276</td>\n",
       "      <td>0.438594</td>\n",
       "      <td>0.360021</td>\n",
       "      <td>0.331052</td>\n",
       "      <td>0.142572</td>\n",
       "      <td>0.179954</td>\n",
       "      <td>0.157162</td>\n",
       "      <td>0.081636</td>\n",
       "      <td>0.438556</td>\n",
       "      <td>0.708183</td>\n",
       "      <td>0.541966</td>\n",
       "      <td>0.815481</td>\n",
       "      <td>0.955445</td>\n",
       "      <td>0.556310</td>\n",
       "      <td>0.500417</td>\n",
       "      <td>1.000000</td>\n",
       "      <td>0</td>\n",
       "    </tr>\n",
       "  </tbody>\n",
       "</table>\n",
       "</div>"
      ],
      "text/plain": [
       "   sleep_awake  sleep_breath_average  sleep_deep  sleep_duration  \\\n",
       "0     0.422924              0.477566    0.304000        0.523079   \n",
       "1     0.000000              0.451455    0.488372        0.501219   \n",
       "2     0.430326              0.555427    0.182253        0.404442   \n",
       "3     0.379785              0.195751    0.308392        0.442231   \n",
       "4     0.256004              0.347874    0.677276        0.438594   \n",
       "\n",
       "   sleep_hr_average  sleep_light  sleep_midpoint_at_delta  \\\n",
       "0          0.460202     0.423397                 0.261079   \n",
       "1          0.637767     0.477082                 0.196890   \n",
       "2          0.343454     0.250976                 0.096846   \n",
       "3          0.592405     0.385784                 0.190902   \n",
       "4          0.360021     0.331052                 0.142572   \n",
       "\n",
       "   sleep_onset_latency  sleep_period_id  sleep_rem  sleep_restless  \\\n",
       "0             0.261016         0.685649   0.449271        0.599543   \n",
       "1             0.239434         0.159950   0.710106        0.334438   \n",
       "2             0.375251         0.139814   0.525399        0.443120   \n",
       "3             0.190483         0.350861   0.289051        0.738342   \n",
       "4             0.179954         0.157162   0.081636        0.438556   \n",
       "\n",
       "   sleep_rmssd  sleep_score  sleep_score_alignment  sleep_score_deep  \\\n",
       "0     0.161833     0.415818               0.576342          0.675137   \n",
       "1     0.435383     0.822495               0.778833          0.859601   \n",
       "2     0.237821     0.365140               0.965204          0.489051   \n",
       "3     0.232490     0.382775               0.911952          0.693454   \n",
       "4     0.708183     0.541966               0.815481          0.955445   \n",
       "\n",
       "   sleep_score_disturbances  sleep_score_latency  sleep_temperature_delta  \\\n",
       "0                  0.336553             0.648496                 0.599968   \n",
       "1                  0.949620             0.853174                 0.665333   \n",
       "2                  0.481131             0.583690                 0.473578   \n",
       "3                  0.286148             0.796513                 0.317933   \n",
       "4                  0.556310             0.500417                 1.000000   \n",
       "\n",
       "   DIAG_NM  \n",
       "0        0  \n",
       "1        1  \n",
       "2        0  \n",
       "3        1  \n",
       "4        0  "
      ]
     },
     "execution_count": 14,
     "metadata": {},
     "output_type": "execute_result"
    }
   ],
   "source": [
    "sleep_df.head()"
   ]
  },
  {
   "cell_type": "code",
   "execution_count": 22,
   "metadata": {},
   "outputs": [],
   "source": [
    "from xgboost import XGBClassifier\n",
    "\n",
    "train_X, train_y, test_X, test_y = split_train_test(sleep_df, 'DIAG_NM')\n",
    "\n",
    "model_xgb = XGBClassifier(n_estimators=500, learning_rate=0.3, max_depth=4, random_state=32)\n",
    "model_xgb.fit(train_X, train_y, verbose=True)\n",
    "preds = model_xgb.predict(test_X)\n",
    "preds_proba = model_xgb.predict_proba(test_X)[:,1]"
   ]
  },
  {
   "cell_type": "code",
   "execution_count": 26,
   "metadata": {},
   "outputs": [
    {
     "data": {
      "text/plain": [
       "array([1, 1, 1, 1, 0, 1, 0, 0, 1, 0, 1, 0, 0, 0, 0, 1, 0, 0, 0, 0, 0, 1,\n",
       "       0, 0, 0, 0, 1, 0, 1])"
      ]
     },
     "execution_count": 26,
     "metadata": {},
     "output_type": "execute_result"
    }
   ],
   "source": [
    "test_y"
   ]
  },
  {
   "cell_type": "code",
   "execution_count": 23,
   "metadata": {},
   "outputs": [
    {
     "name": "stdout",
     "output_type": "stream",
     "text": [
      "오차 행렬\n",
      "[[12  6]\n",
      " [ 8  3]]\n",
      "정확도:0.5172, 정밀도:0.3333, 재현율:0.2727, F1:0.3000, AUC:0.5303\n"
     ]
    }
   ],
   "source": [
    "gef_clf_eval(test_y, preds, preds_proba)"
   ]
  }
 ],
 "metadata": {
  "kernelspec": {
   "display_name": "env3.12",
   "language": "python",
   "name": "python3"
  },
  "language_info": {
   "codemirror_mode": {
    "name": "ipython",
    "version": 3
   },
   "file_extension": ".py",
   "mimetype": "text/x-python",
   "name": "python",
   "nbconvert_exporter": "python",
   "pygments_lexer": "ipython3",
   "version": "3.12.0"
  }
 },
 "nbformat": 4,
 "nbformat_minor": 2
}
