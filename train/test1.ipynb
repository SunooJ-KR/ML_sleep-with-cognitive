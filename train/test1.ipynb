{
 "cells": [
  {
   "cell_type": "markdown",
   "metadata": {},
   "source": [
    "# 데이터 전처리(merge with labeling data)"
   ]
  },
  {
   "cell_type": "code",
   "execution_count": 2,
   "metadata": {},
   "outputs": [],
   "source": [
    "import pandas as pd\n",
    "\n",
    "prepro_data_path = '../datasets/preprocessing/'\n",
    "\n",
    "activity = pd.read_csv(prepro_data_path+'prepro_activity.csv', index_col=0)\n",
    "sleep = pd.read_csv(prepro_data_path+'prepro_sleep.csv', index_col=0)\n",
    "mmse = pd.read_csv(prepro_data_path+'sample_mmse.csv', index_col=0)"
   ]
  },
  {
   "cell_type": "code",
   "execution_count": 12,
   "metadata": {},
   "outputs": [],
   "source": [
    "labeling_data_path = '../datasets/data/1.Training/labeling/'\n",
    "\n",
    "activity_label = pd.read_csv(labeling_data_path+'1.걸음걸이/training_label.csv')\n",
    "sleep_label = pd.read_csv(labeling_data_path+'2.수면/training_label.csv')\n",
    "mmse_label = pd.read_csv(labeling_data_path+'3.인지기능/training_label.csv')"
   ]
  },
  {
   "cell_type": "code",
   "execution_count": 14,
   "metadata": {},
   "outputs": [],
   "source": [
    "import data_merge"
   ]
  },
  {
   "cell_type": "code",
   "execution_count": 15,
   "metadata": {},
   "outputs": [],
   "source": [
    "labeled_activity = data_merge.merge_data(activity, activity_label,0)\n",
    "labeled_sleep = data_merge.merge_data(sleep, sleep_label,0)\n",
    "labeled_mmse = data_merge.merge_data(mmse, mmse_label,1)"
   ]
  },
  {
   "cell_type": "code",
   "execution_count": 16,
   "metadata": {},
   "outputs": [
    {
     "name": "stdout",
     "output_type": "stream",
     "text": [
      "<class 'pandas.core.frame.DataFrame'>\n",
      "RangeIndex: 141 entries, 0 to 140\n",
      "Data columns (total 18 columns):\n",
      " #   Column                             Non-Null Count  Dtype  \n",
      "---  ------                             --------------  -----  \n",
      " 0   EMAIL                              141 non-null    object \n",
      " 1   activity_cal_total                 141 non-null    float64\n",
      " 2   activity_high                      141 non-null    float64\n",
      " 3   activity_inactive                  141 non-null    float64\n",
      " 4   activity_low                       141 non-null    float64\n",
      " 5   activity_medium                    141 non-null    float64\n",
      " 6   activity_met_min_inactive          141 non-null    float64\n",
      " 7   activity_non_wear                  141 non-null    float64\n",
      " 8   activity_rest                      141 non-null    float64\n",
      " 9   activity_score                     141 non-null    float64\n",
      " 10  activity_score_meet_daily_targets  141 non-null    float64\n",
      " 11  activity_score_move_every_hour     141 non-null    float64\n",
      " 12  activity_score_recovery_time       141 non-null    float64\n",
      " 13  activity_score_training_frequency  141 non-null    float64\n",
      " 14  activity_score_training_volume     141 non-null    float64\n",
      " 15  activity_steps                     141 non-null    float64\n",
      " 16  activity_total                     141 non-null    float64\n",
      " 17  target                             141 non-null    object \n",
      "dtypes: float64(16), object(2)\n",
      "memory usage: 20.0+ KB\n"
     ]
    }
   ],
   "source": [
    "labeled_activity.info()"
   ]
  },
  {
   "cell_type": "markdown",
   "metadata": {},
   "source": [
    "# XGBoost"
   ]
  },
  {
   "cell_type": "code",
   "execution_count": 43,
   "metadata": {},
   "outputs": [],
   "source": [
    "import xgboost\n",
    "import matplotlib.pyplot as plt\n",
    "from sklearn.linear_model import LogisticRegression\n",
    "from sklearn.multiclass import OneVsRestClassifier"
   ]
  },
  {
   "cell_type": "markdown",
   "metadata": {},
   "source": [
    "## 1. activity"
   ]
  },
  {
   "cell_type": "markdown",
   "metadata": {},
   "source": [
    "데이터 셋의 80%만 학습 데이터로 사용, 나머지는 테스트 셋으로 사용"
   ]
  },
  {
   "cell_type": "code",
   "execution_count": 80,
   "metadata": {},
   "outputs": [
    {
     "name": "stdout",
     "output_type": "stream",
     "text": [
      "112\n"
     ]
    }
   ],
   "source": [
    "train_num = int(len(labeled_activity)*0.8)\n",
    "print(train_num)"
   ]
  },
  {
   "cell_type": "markdown",
   "metadata": {},
   "source": [
    "전체 데이터를 x값, y값으로 나눔"
   ]
  },
  {
   "cell_type": "code",
   "execution_count": 81,
   "metadata": {},
   "outputs": [
    {
     "name": "stdout",
     "output_type": "stream",
     "text": [
      "x: 141\n",
      "y: 141\n"
     ]
    }
   ],
   "source": [
    "x_df = labeled_activity.drop(['EMAIL', 'target'], axis=1)\n",
    "print('x:', len(x_df))\n",
    "\n",
    "#target 값 one-hot encoding\n",
    "y_df = pd.get_dummies(labeled_activity['target'])\n",
    "print('y:', len(y_df))"
   ]
  },
  {
   "cell_type": "markdown",
   "metadata": {},
   "source": [
    "train, test 셋으로 나눈 후 nparray로 변환(`.values`)"
   ]
  },
  {
   "cell_type": "code",
   "execution_count": 82,
   "metadata": {},
   "outputs": [],
   "source": [
    "train_X = x_df[:train_num].values\n",
    "train_y = y_df[:train_num].values\n",
    "test_X = x_df[train_num:].values\n",
    "test_y = y_df[train_num:].values"
   ]
  },
  {
   "cell_type": "markdown",
   "metadata": {},
   "source": [
    "target 값 count"
   ]
  },
  {
   "cell_type": "code",
   "execution_count": 83,
   "metadata": {},
   "outputs": [
    {
     "name": "stdout",
     "output_type": "stream",
     "text": [
      "target\n",
      "CN     85\n",
      "MCI    47\n",
      "Dem     9\n",
      "Name: count, dtype: int64\n"
     ]
    }
   ],
   "source": [
    "print(labeled_activity['target'].value_counts())"
   ]
  },
  {
   "cell_type": "markdown",
   "metadata": {},
   "source": [
    "모델 생성"
   ]
  },
  {
   "cell_type": "code",
   "execution_count": 84,
   "metadata": {},
   "outputs": [],
   "source": [
    "model = LogisticRegression()\n",
    "model = OneVsRestClassifier(model)"
   ]
  },
  {
   "cell_type": "markdown",
   "metadata": {},
   "source": [
    "모델 학습\n"
   ]
  },
  {
   "cell_type": "code",
   "execution_count": 85,
   "metadata": {},
   "outputs": [
    {
     "name": "stdout",
     "output_type": "stream",
     "text": [
      "[LogisticRegression(), LogisticRegression(), LogisticRegression()]\n"
     ]
    }
   ],
   "source": [
    "model.fit(train_X, train_y)\n",
    "\n",
    "print(model.estimators_)"
   ]
  },
  {
   "cell_type": "code",
   "execution_count": 86,
   "metadata": {},
   "outputs": [],
   "source": [
    "y_predict = model.predict(test_X)"
   ]
  },
  {
   "cell_type": "code",
   "execution_count": 88,
   "metadata": {},
   "outputs": [
    {
     "name": "stdout",
     "output_type": "stream",
     "text": [
      "정밀도 : 0.2807, 재현율:0.20513,  fl:0.65306\n"
     ]
    },
    {
     "name": "stderr",
     "output_type": "stream",
     "text": [
      "/home/sunooj/.pyenv/versions/3.12.0/envs/env3.12/lib/python3.12/site-packages/sklearn/metrics/_classification.py:1471: UndefinedMetricWarning: Precision is ill-defined and being set to 0.0 in labels with no predicted samples. Use `zero_division` parameter to control this behavior.\n",
      "  _warn_prf(average, modifier, msg_start, len(result))\n",
      "/home/sunooj/.pyenv/versions/3.12.0/envs/env3.12/lib/python3.12/site-packages/sklearn/metrics/_classification.py:1471: UndefinedMetricWarning: Recall is ill-defined and being set to 0.0 in labels with no true samples. Use `zero_division` parameter to control this behavior.\n",
      "  _warn_prf(average, modifier, msg_start, len(result))\n"
     ]
    }
   ],
   "source": [
    "from sklearn.metrics import precision_score, recall_score, f1_score, roc_auc_score\n",
    "\n",
    "f1 = round(f1_score(test_y, y_predict, average='micro'), ndigits= 5)\n",
    "precision = round(precision_score(test_y, y_predict, average='macro'), ndigits=5)\n",
    "recall = round(recall_score(test_y, y_predict, average='macro'), ndigits=5)\n",
    "#auc = round(roc_auc_score(test_y, y_predict, multi_class='ovo'), ndigits= 5)\n",
    "print(f'정밀도 : {precision}, 재현율:{recall},  fl:{f1}')"
   ]
  }
 ],
 "metadata": {
  "kernelspec": {
   "display_name": "env3.12",
   "language": "python",
   "name": "python3"
  },
  "language_info": {
   "codemirror_mode": {
    "name": "ipython",
    "version": 3
   },
   "file_extension": ".py",
   "mimetype": "text/x-python",
   "name": "python",
   "nbconvert_exporter": "python",
   "pygments_lexer": "ipython3",
   "version": "3.12.0"
  }
 },
 "nbformat": 4,
 "nbformat_minor": 2
}
