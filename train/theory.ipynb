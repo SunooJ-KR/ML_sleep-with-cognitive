{
 "cells": [
  {
   "cell_type": "markdown",
   "metadata": {},
   "source": [
    "# XGBoost\n",
    "* 일반적으로 분류와 회귀 영역에서 뛰어난 예측 성능을 지니며, GBM 대비 빠른 수행 시간이 장점. 그러나 다른 머신러닝 알고리즘에 비해 빠른 것은 아니다.\n",
    "* 규제(Regularization) 기능이 있어 과적합에 좀 더 강한 내구성을 지닌다.\n",
    "* 나무 가지치기(Tree Pruning) 기능이 탑재되어 있어 더 이상 긍정 이득이 없는 분할을 가지치기해서 분할 수를 더 줄이는 장점이 있다.\n",
    "* 자체 내장된 교차검증으로 지정된 반복 횟수가 아니라 교차 검증을 통해 평가 데이터 셋의 평가값이 최적화되면 반복을 중간에 멈출 수 있는 조기 중단(Early Stopping) 기능을 보유한다.\n",
    "* 결손 값 자체 처리가 가능하다.\n",
    "\n",
    "### 조기중단\n",
    "* 특정 반복 횟수만큼 더 이상 error가 감소하지 않으면 지정된 반복 횟수를 다 완료하지 않고 수행을 종료할 수 있다.\n",
    "* 학습을 위한 시간을 단축시킬 수 있어 최적화 튜닝 단계에서 적절히 사용이 가능하다.\n",
    "* 반복 횟수를 너무 단축할 경우 예측 성능이 최적화가 안된 상태에서 학습이 중단될 수 있으므로 유의해야 한다.\n",
    "\n",
    "**주요 파라미터**\n",
    "1. early_stopping_rounds : 더 이상 error가 감소하지 않는 최대 반복 횟수\n",
    "2. eval_metric : 반복 수행 시 사용하는 비용 평가 지표\n",
    "3. eval_set : 평가를 수행하는 별도의 검증 데이터 셋. 일반적으로는 검증 데이터 셋에서 반복적으로 error 감소 성능 평가."
   ]
  },
  {
   "cell_type": "code",
   "execution_count": 1,
   "metadata": {},
   "outputs": [],
   "source": [
    "import xgboost as xgb\n",
    "from xgboost import plot_importance"
   ]
  },
  {
   "cell_type": "code",
   "execution_count": 2,
   "metadata": {},
   "outputs": [],
   "source": [
    "import modules\n",
    "import pandas as pd\n",
    "# 전처리한 X data\n",
    "prepro_data_path = '../datasets/preprocessing/'\n",
    "\n",
    "activity = pd.read_csv(prepro_data_path+'prepro_activity.csv', index_col=0)\n",
    "sleep = pd.read_csv(prepro_data_path+'prepro_sleep.csv', index_col=0)\n",
    "mmse = pd.read_csv(prepro_data_path+'sample_mmse.csv', index_col=0)\n",
    "\n",
    "# target data\n",
    "labeling_data_path = '../datasets/data/1.Training/labeling/'\n",
    "\n",
    "activity_label = pd.read_csv(labeling_data_path+'1.걸음걸이/training_label.csv')\n",
    "sleep_label = pd.read_csv(labeling_data_path+'2.수면/training_label.csv')\n",
    "mmse_label = pd.read_csv(labeling_data_path+'3.인지기능/training_label.csv')\n",
    "\n",
    "labeled_activity = modules.merge_data(activity, activity_label,0)\n",
    "labeled_sleep = modules.merge_data(sleep, sleep_label,0)\n",
    "labeled_mmse = modules.merge_data(mmse, mmse_label,1)"
   ]
  },
  {
   "cell_type": "markdown",
   "metadata": {},
   "source": [
    "수면 데이터 활용"
   ]
  },
  {
   "cell_type": "code",
   "execution_count": 3,
   "metadata": {},
   "outputs": [],
   "source": [
    "train_X, train_y, test_X, test_y = modules.split_train_test(labeled_sleep, 0.8)"
   ]
  },
  {
   "cell_type": "code",
   "execution_count": 6,
   "metadata": {},
   "outputs": [
    {
     "name": "stdout",
     "output_type": "stream",
     "text": [
      "학습용 x : (112, 18), 평가용 x : (29, 18)\n",
      "학습용 y : (112, 3), 평가용 y : (29, 3)\n"
     ]
    }
   ],
   "source": [
    "print(f'학습용 x : {train_X.shape}, 평가용 x : {test_X.shape}')\n",
    "print(f'학습용 y : {train_y.shape}, 평가용 y : {test_y.shape}')"
   ]
  },
  {
   "cell_type": "markdown",
   "metadata": {},
   "source": [
    "# 회귀분석(Regression)\n",
    "회귀분석은 하나 또는 그 이상의 독립변수(X)로 종속변수(Y)를 예측하기 위해서 사용되는 방법론 중 하나이다.\n",
    "\n",
    "* 일반적으로 회귀분석은 종속변수와 관련되어 있는 독립변수를 선별하고, 독립변수와 종속변수 간의 관계를 수식(회귀식)으로 표현하는 방법론이다.\n",
    "* 예를 들어 생리학자가 머신러닝에서 운동 시 칼로리 소요량(종속변수)을 예측하기 위한 수식을 회귀분석을 통해 수립하고자 할 때, 다음 독립 변수를 고려할 수 있다.\n",
    "    * 운동 지속시간, 목표 심박수 지속 시간 정도, 평균 속도, 연령, 성별, BMI 등\n",
    "\n",
    "## 회귀분석의 종류\n",
    "|종류|일반적인 사용환경|\n",
    "|------|---|\n",
    "|단순선형(Simple Linear)|Y/Y : 각각 한 개의 양적 변수|\n",
    "|다항(Polynomial)|Y/X : 한 개의 양적 변수/ 한 개의 n차 양적 변수|\n",
    "|다중 선형(Multiple linear)|Y/X : 한 개의 양적변수/ 두 개 이상|\n",
    "|다변량(Multivariate)|Y/X : 각각 두 개 이상|"
   ]
  },
  {
   "cell_type": "markdown",
   "metadata": {},
   "source": []
  }
 ],
 "metadata": {
  "kernelspec": {
   "display_name": "env3.12",
   "language": "python",
   "name": "python3"
  },
  "language_info": {
   "codemirror_mode": {
    "name": "ipython",
    "version": 3
   },
   "file_extension": ".py",
   "mimetype": "text/x-python",
   "name": "python",
   "nbconvert_exporter": "python",
   "pygments_lexer": "ipython3",
   "version": "3.12.0"
  }
 },
 "nbformat": 4,
 "nbformat_minor": 2
}
